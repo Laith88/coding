{
 "cells": [
  {
   "cell_type": "code",
   "execution_count": 9,
   "metadata": {},
   "outputs": [
    {
     "name": "stdout",
     "output_type": "stream",
     "text": [
      "Overwriting stacks.py\n"
     ]
    }
   ],
   "source": [
    "%%writefile stacks.py\n",
    "class Stacks(object):\n",
    "    \n",
    "    def __init__(self, stack_size, stack_num):\n",
    "        self.stack_size = stack_size\n",
    "        self.stack_num = stack_num\n",
    "        self.stack_pointer = [-1] * stack_num\n",
    "        self.stack_array = [None] * stack_num * stack_size\n",
    "    \n",
    "    def abs_index(self, stack_index):\n",
    "        return stack_index * self.stack_size + self.stack_pointer[stack_index]\n",
    "    \n",
    "    def push(self, data, stack_index):\n",
    "        if self.stack_pointer[stack_index] == self.stack_size -1:\n",
    "            raise Exception('Stack is full')\n",
    "        self.stack_pointer[stack_index] += 1\n",
    "        array_pointer = self.abs_index(stack_index)\n",
    "        self.stack_array[array_pointer] = data\n",
    "        \n",
    "    def pop(self, stack_index):\n",
    "        if self.stack_pointer[stack_index] == -1:\n",
    "            raise Exeption('Stack is empty')\n",
    "        array_pointer = self.abs_index(stack_index)\n",
    "        data = self.stack_array[array_pointer]\n",
    "        self.stack_array[array_pointer] = None\n",
    "        stack_pointer[stack_index] -= 1\n",
    "        return data"
   ]
  },
  {
   "cell_type": "code",
   "execution_count": 12,
   "metadata": {},
   "outputs": [
    {
     "name": "stdout",
     "output_type": "stream",
     "text": [
      "Overwriting test_n_stacks.py\n"
     ]
    }
   ],
   "source": [
    "%%writefile test_n_stacks.py\n",
    "from nose.tools import assert_equal\n",
    "from nose.tools import raises\n",
    "from stacks import Stacks\n",
    "\n",
    "class TestStacks(object):\n",
    "\n",
    "    @raises(Exception)\n",
    "    def test_pop_on_empty(self, num_stacks, stack_size):\n",
    "        print('Test: Pop on empty stack')\n",
    "        stacks = Stacks(num_stacks, stack_size)\n",
    "        stacks.pop(0)\n",
    "\n",
    "    @raises(Exception)\n",
    "    def test_push_on_full(self, num_stacks, stack_size):\n",
    "        print('Test: Push to full stack')\n",
    "        stacks = Stacks(num_stacks, stack_size)\n",
    "        for i in range(0, stack_size):\n",
    "            stacks.push(2, i)\n",
    "        stacks.push(2, stack_size)\n",
    "\n",
    "    def test_stacks(self, num_stacks, stack_size):\n",
    "        print('Test: Push to non-full stack')\n",
    "        stacks = Stacks(num_stacks, stack_size)\n",
    "        stacks.push(0, 1)\n",
    "        stacks.push(0, 2)\n",
    "        stacks.push(1, 3)\n",
    "        stacks.push(2, 4)\n",
    "\n",
    "        print('Test: Pop on non-empty stack')\n",
    "        assert_equal(stacks.pop(0), 2)\n",
    "        assert_equal(stacks.pop(0), 1)\n",
    "        assert_equal(stacks.pop(1), 3)\n",
    "        assert_equal(stacks.pop(2), 4)\n",
    "\n",
    "        print('Success: test_stacks\\n')\n",
    "\n",
    "\n",
    "def main():\n",
    "    num_stacks = 3\n",
    "    stack_size = 100\n",
    "    test = TestStacks()\n",
    "    test.test_pop_on_empty(num_stacks, stack_size)\n",
    "    test.test_push_on_full(num_stacks, stack_size)\n",
    "    test.test_stacks(num_stacks, stack_size)\n",
    "\n",
    "\n",
    "if __name__ == '__main__':\n",
    "    main()"
   ]
  },
  {
   "cell_type": "code",
   "execution_count": null,
   "metadata": {},
   "outputs": [],
   "source": [
    "run -i test_n_stacks.py"
   ]
  }
 ],
 "metadata": {
  "kernelspec": {
   "display_name": "Python 3",
   "language": "python",
   "name": "python3"
  },
  "language_info": {
   "codemirror_mode": {
    "name": "ipython",
    "version": 3
   },
   "file_extension": ".py",
   "mimetype": "text/x-python",
   "name": "python",
   "nbconvert_exporter": "python",
   "pygments_lexer": "ipython3",
   "version": "3.6.4"
  }
 },
 "nbformat": 4,
 "nbformat_minor": 2
}
