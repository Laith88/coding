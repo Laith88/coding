{
 "cells": [
  {
   "cell_type": "code",
   "execution_count": 8,
   "metadata": {},
   "outputs": [
    {
     "name": "stdout",
     "output_type": "stream",
     "text": [
      "Overwriting hash_table.py\n"
     ]
    }
   ],
   "source": [
    "%%writefile hash_table.py\n",
    "\n",
    "class Item(object):\n",
    "    \"\"\"Instantiate a item node data structure for the hash-table data stucture.\"\"\"\n",
    "    def __init__(self, key, value):\n",
    "        self.key = key\n",
    "        self.value = value\n",
    "        \n",
    "class HashTable(object):\n",
    "    \"\"\"Return hash-table data stucture.\"\"\"\n",
    "    def __init__(self, size = 11):\n",
    "        self.size = size #size is pref. prime\n",
    "        self.table = [[] for _ in range(self.size)]\n",
    "\n",
    "    def _hash_function(self, key):\n",
    "        \"\"\"Calculate a simple hash function.\"\"\"\n",
    "        return key % self.size\n",
    "    \n",
    "    def set(self, key, value):\n",
    "        \"\"\"Calculate a simple hash function.\"\"\"\n",
    "        hash_index = self._hash_function(key)\n",
    "        for item in self.table[hash_index]:\n",
    "            if item.key == key:\n",
    "                item.value = value\n",
    "                return\n",
    "        self.table[hash_index].append(Item(key, value))\n",
    "    \n",
    "    def get(self, key):\n",
    "        \"\"\"Calculate a simple hash function.\"\"\"\n",
    "        hash_index = self._hash_function(key)\n",
    "        for item in self.table[hash_index]:\n",
    "            if item.key == key:\n",
    "                return item.value\n",
    "        raise KeyError('Key not found')\n",
    "        \n",
    "    def remove(self, key):\n",
    "        hash_index = self._hash_function(key)\n",
    "        for index, item in enumerate(self.table[hash_index]):\n",
    "            if item.key == key:\n",
    "                del self.table[hash_index][index]\n",
    "                return\n",
    "        raise KeyError('Key not found')\n",
    "        \n",
    "    def __getitem__(self, key):\n",
    "        \"\"\"Calculate a simple hash function.\"\"\"\n",
    "        return self.get(key)\n",
    "    \n",
    "    def __setitem__(self, key, value):\n",
    "        self.set(key, value)"
   ]
  }
 ],
 "metadata": {
  "kernelspec": {
   "display_name": "Python 3",
   "language": "python",
   "name": "python3"
  },
  "language_info": {
   "codemirror_mode": {
    "name": "ipython",
    "version": 3
   },
   "file_extension": ".py",
   "mimetype": "text/x-python",
   "name": "python",
   "nbconvert_exporter": "python",
   "pygments_lexer": "ipython3",
   "version": "3.6.4"
  }
 },
 "nbformat": 4,
 "nbformat_minor": 2
}
