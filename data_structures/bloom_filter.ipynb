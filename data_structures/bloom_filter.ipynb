{
 "cells": [
  {
   "cell_type": "code",
   "execution_count": 57,
   "metadata": {},
   "outputs": [
    {
     "name": "stdout",
     "output_type": "stream",
     "text": [
      "Overwriting bloom_filter.py\n"
     ]
    }
   ],
   "source": [
    "%%writefile bloom_filter.py\n",
    "\n",
    "class BloomFilter(object):\n",
    "    def __init__(self, size=1000, p= 0.75, n=10^6):\n",
    "        \"\"\"\n",
    "        parameters:\n",
    "        n:int - number of elements\n",
    "        p:float - desired false probability\n",
    "        m:int - required number of bits\n",
    "        \"\"\"\n",
    "        self.bits = 0\n",
    "        self.size = size\n",
    "        self.k = \n",
    "        \n",
    "    def _hash_function(self):\n",
    "        return x % self.size\n",
    "    \n",
    "    def add(self, value):\n",
    "        \"\"\" Insert a value into the bloom filter \"\"\"\n",
    "        self.bits = self.bits | 1<<self._hash_function(value)\n",
    "    \n",
    "    def __contains__(self, value):\n",
    "        if self.bits & 1<<self._hash_function(value) == 0:\n",
    "            return False\n",
    "        return True"
   ]
  },
  {
   "cell_type": "code",
   "execution_count": 58,
   "metadata": {},
   "outputs": [],
   "source": [
    "class BloomFilter(object):\n",
    "    def __init__(self, size=1000):\n",
    "        self.bits = 0\n",
    "        self.size = size\n",
    "        \n",
    "    def _hash_function(self):\n",
    "        return x % self.size\n",
    "    \n",
    "    def add(self, value):\n",
    "        \"\"\" Insert a value into the bloom filter \"\"\"\n",
    "        self.bits = self.bits | 1<<self._hash_function(value)\n",
    "    \n",
    "    def __contains__(self, value):\n",
    "        if self.bits & 1<<self._hash_function(value) == 0:\n",
    "            return False\n",
    "        return True"
   ]
  },
  {
   "cell_type": "code",
   "execution_count": 59,
   "metadata": {},
   "outputs": [],
   "source": [
    "bf = BloomFilter"
   ]
  },
  {
   "cell_type": "code",
   "execution_count": 60,
   "metadata": {},
   "outputs": [
    {
     "ename": "TypeError",
     "evalue": "add() missing 1 required positional argument: 'value'",
     "output_type": "error",
     "traceback": [
      "\u001b[0;31m---------------------------------------------------------------------------\u001b[0m",
      "\u001b[0;31mTypeError\u001b[0m                                 Traceback (most recent call last)",
      "\u001b[0;32m<ipython-input-60-9e62fcf791c0>\u001b[0m in \u001b[0;36m<module>\u001b[0;34m()\u001b[0m\n\u001b[0;32m----> 1\u001b[0;31m \u001b[0mbf\u001b[0m\u001b[0;34m.\u001b[0m\u001b[0madd\u001b[0m\u001b[0;34m(\u001b[0m\u001b[0;36m10\u001b[0m\u001b[0;34m)\u001b[0m\u001b[0;34m\u001b[0m\u001b[0m\n\u001b[0m",
      "\u001b[0;31mTypeError\u001b[0m: add() missing 1 required positional argument: 'value'"
     ]
    }
   ],
   "source": [
    "bf.add(10)"
   ]
  },
  {
   "cell_type": "code",
   "execution_count": 33,
   "metadata": {},
   "outputs": [],
   "source": [
    "t = '125'.__str__()"
   ]
  },
  {
   "cell_type": "code",
   "execution_count": 34,
   "metadata": {},
   "outputs": [
    {
     "data": {
      "text/plain": [
       "'125'"
      ]
     },
     "execution_count": 34,
     "metadata": {},
     "output_type": "execute_result"
    }
   ],
   "source": [
    "t"
   ]
  },
  {
   "cell_type": "code",
   "execution_count": 45,
   "metadata": {},
   "outputs": [],
   "source": [
    "bits = 0\n",
    "bits = bits | (1<<(21%1000))"
   ]
  },
  {
   "cell_type": "code",
   "execution_count": null,
   "metadata": {},
   "outputs": [],
   "source": []
  }
 ],
 "metadata": {
  "kernelspec": {
   "display_name": "Python 3",
   "language": "python",
   "name": "python3"
  },
  "language_info": {
   "codemirror_mode": {
    "name": "ipython",
    "version": 3
   },
   "file_extension": ".py",
   "mimetype": "text/x-python",
   "name": "python",
   "nbconvert_exporter": "python",
   "pygments_lexer": "ipython3",
   "version": "3.6.4"
  }
 },
 "nbformat": 4,
 "nbformat_minor": 2
}
