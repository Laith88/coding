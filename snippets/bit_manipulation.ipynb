{
 "cells": [
  {
   "cell_type": "code",
   "execution_count": 25,
   "metadata": {},
   "outputs": [
    {
     "name": "stdout",
     "output_type": "stream",
     "text": [
      "Overwriting bit_manipulation.py\n"
     ]
    }
   ],
   "source": [
    "%%writefile bit_manipulation.py\n",
    "\n",
    "def validate_index(func):\n",
    "        def _validate_index_wrap(self, *args, **kwargs):\n",
    "            for arg in args:\n",
    "                if arg < 0:\n",
    "                    raise IndexError('Invalid Index')\n",
    "            return func(self, *args, **kwargs)\n",
    "        return _validate_index_wrap\n",
    "    \n",
    "    \n",
    "class Bit(object):\n",
    "    \"\"\" Initiate bit and perform bit related operations\"\"\"\n",
    "    \n",
    "    def __init__(self, number):\n",
    "        if number is None:\n",
    "            raise TypeError('number can not be None')\n",
    "        self.number = number\n",
    "        \n",
    "    @validate_index\n",
    "    def get_bit(self, index):\n",
    "        return self.number & (1 << index) != 0\n",
    "\n",
    "    @validate_index\n",
    "    def set_bit(self, index):\n",
    "        self.number |= (1 << index)\n",
    "        return self.number\n",
    "    \n",
    "    @validate_index\n",
    "    def clear_bit(self, index):\n",
    "        self.number &= ~(1 << index)\n",
    "        return self.number\n",
    "    \n",
    "    @validate_index\n",
    "    def clear_bits_msb_to_index(self, index):\n",
    "        self.number &= (~(1 << index) -1)\n",
    "        return self.number\n",
    "\n",
    "    @validate_index\n",
    "    def clear_bits_index_to_lsb(self, index):\n",
    "        self.number &= ~((1 << index + 1) - 1)\n",
    "    \n",
    "    @validate_index\n",
    "    def update_bit(self, index, value):\n",
    "        if value is None or value not in (0, 1):\n",
    "            raise Exception('Invalid value')\n",
    "        if self.get_bit(index) == value:\n",
    "            return self.number\n",
    "        if value:\n",
    "            self.set_bit(index)\n",
    "        else:\n",
    "            self.clear_bit(index)\n",
    "        return self.number"
   ]
  },
  {
   "cell_type": "code",
   "execution_count": 26,
   "metadata": {},
   "outputs": [
    {
     "name": "stdout",
     "output_type": "stream",
     "text": [
      "Overwriting test_bit_manipulation.py\n"
     ]
    }
   ],
   "source": [
    "%%writefile test_bit_manipulation.py\n",
    "import unittest\n",
    "from bit_manipulation import Bit\n",
    "\n",
    "class TestBit(unittest.TestCase):\n",
    "    def test_get_bit(self):\n",
    "        number = int('10001110', base=2)\n",
    "        bit = Bit(number)\n",
    "        self.assertEqual(bit.get_bit(index=3), True)\n",
    "\n",
    "if __name__ == '__main__':\n",
    "    unittest.main()"
   ]
  },
  {
   "cell_type": "code",
   "execution_count": 31,
   "metadata": {},
   "outputs": [
    {
     "name": "stderr",
     "output_type": "stream",
     "text": [
      ".\n",
      "----------------------------------------------------------------------\n",
      "Ran 1 test in 0.002s\n",
      "\n",
      "OK\n"
     ]
    }
   ],
   "source": [
    "%run -i test_bit_manipulation.py"
   ]
  },
  {
   "cell_type": "code",
   "execution_count": null,
   "metadata": {},
   "outputs": [],
   "source": []
  }
 ],
 "metadata": {
  "kernelspec": {
   "display_name": "Python 3",
   "language": "python",
   "name": "python3"
  },
  "language_info": {
   "codemirror_mode": {
    "name": "ipython",
    "version": 3
   },
   "file_extension": ".py",
   "mimetype": "text/x-python",
   "name": "python",
   "nbconvert_exporter": "python",
   "pygments_lexer": "ipython3",
   "version": "3.6.4"
  }
 },
 "nbformat": 4,
 "nbformat_minor": 2
}
