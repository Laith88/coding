{
 "cells": [
  {
   "cell_type": "code",
   "execution_count": 11,
   "metadata": {},
   "outputs": [],
   "source": [
    "class SelectionSort(object):\n",
    "    \"\"\" Sort an input list using the selection sort algorithm. \"\"\"\n",
    "    def sort(self, alist):\n",
    "        if alist is None:\n",
    "            raise TypeError(' List can not be None')\n",
    "        if len(alist) < 2: \n",
    "            return alist\n",
    "        for i in range(len(alist)-1, 0, -1):\n",
    "            for j in range(0, i):\n",
    "                if alist[j] > alist[i]:\n",
    "                    alist[j], alist[i] = alist[i], alist[j] "
   ]
  },
  {
   "cell_type": "code",
   "execution_count": 12,
   "metadata": {},
   "outputs": [],
   "source": [
    "import unittest\n",
    "\n",
    "class SelectionSortTest(unittest.TestCase):\n",
    "    def invalid_input_test(self):\n",
    "        self.assertRaise(Invaild, SelectionSort.sort(None))\n",
    "    \n",
    "    def empty_array_test(self):\n",
    "        self.assertEqual(SelectionSort.sort([]), [])\n",
    "\n",
    "    def one_input_test(self):\n",
    "        self.assertEqual(SlectionSort.sort([1]), [1])\n",
    "\n",
    "    def multiinput_test(self):\n",
    "        self.assertEqual(SelectionSort.sort([5, 3, 23, 2, 2, 51, 24 , 236]), [2, 2, 3, 5, 23, 24, 51, 236])\n"
   ]
  },
  {
   "cell_type": "code",
   "execution_count": 10,
   "metadata": {},
   "outputs": [
    {
     "name": "stderr",
     "output_type": "stream",
     "text": [
      "\n",
      "----------------------------------------------------------------------\n",
      "Ran 0 tests in 0.000s\n",
      "\n",
      "OK\n"
     ]
    }
   ],
   "source": [
    "if __name__ == '__main__':\n",
    "    unittest.main(argv=['first-arg-is-ignored'], exit=False)"
   ]
  }
 ],
 "metadata": {
  "kernelspec": {
   "display_name": "Python 3",
   "language": "python",
   "name": "python3"
  },
  "language_info": {
   "codemirror_mode": {
    "name": "ipython",
    "version": 3
   },
   "file_extension": ".py",
   "mimetype": "text/x-python",
   "name": "python",
   "nbconvert_exporter": "python",
   "pygments_lexer": "ipython3",
   "version": "3.6.4"
  }
 },
 "nbformat": 4,
 "nbformat_minor": 2
}
