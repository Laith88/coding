{
 "cells": [
  {
   "cell_type": "code",
   "execution_count": 43,
   "metadata": {},
   "outputs": [],
   "source": [
    "class QuickSort(object):\n",
    "    \"\"\" sort a list into an ordered list using the quicksort algorithm. \"\"\"\n",
    "    def sort(self, list_in):\n",
    "        if list_in is None:\n",
    "            raise TypeError('input list can not be None')\n",
    "        return self._sort(list_in) \n",
    "\n",
    "    def _sort(self, list_in):\n",
    "        if len(list_in) < 2: \n",
    "            return list_in\n",
    "        #init lists\n",
    "        left = []\n",
    "        right = [] \n",
    "        equal = []\n",
    "        pivot_value = list_in[len(list_in)//2]\n",
    "        # build right and left partitions\n",
    "        for element in list_in:\n",
    "            if element == pivot_value:\n",
    "                equal.append(element)\n",
    "            elif element > pivot_value:\n",
    "                right.append(element)\n",
    "            else:\n",
    "                left.append(element)\n",
    "        _left = self._sort(left)\n",
    "        _right = self._sort(right)\n",
    "\n",
    "        return _left + equal + _right"
   ]
  },
  {
   "cell_type": "code",
   "execution_count": 44,
   "metadata": {},
   "outputs": [],
   "source": [
    "qs = QuickSort()"
   ]
  },
  {
   "cell_type": "code",
   "execution_count": 45,
   "metadata": {},
   "outputs": [
    {
     "name": "stdout",
     "output_type": "stream",
     "text": [
      "8.51 µs ± 94.8 ns per loop (mean ± std. dev. of 7 runs, 100000 loops each)\n"
     ]
    }
   ],
   "source": [
    "%%timeit\n",
    "qs.sort([1, 5, 872,3215, 125 ,61, 12, 5,61, 123 ,66, 21, 23, 16, 2])"
   ]
  },
  {
   "cell_type": "code",
   "execution_count": 35,
   "metadata": {},
   "outputs": [
    {
     "name": "stdout",
     "output_type": "stream",
     "text": [
      "8.69 µs ± 135 ns per loop (mean ± std. dev. of 7 runs, 100000 loops each)\n"
     ]
    }
   ],
   "source": [
    "%%timeit\n",
    "qs.sort([1, 5, 872,3215, 125 ,61, 12, 5,61, 123 ,66, 21, 23, 16, 2])"
   ]
  },
  {
   "cell_type": "code",
   "execution_count": null,
   "metadata": {},
   "outputs": [],
   "source": []
  }
 ],
 "metadata": {
  "kernelspec": {
   "display_name": "Python 3",
   "language": "python",
   "name": "python3"
  },
  "language_info": {
   "codemirror_mode": {
    "name": "ipython",
    "version": 3
   },
   "file_extension": ".py",
   "mimetype": "text/x-python",
   "name": "python",
   "nbconvert_exporter": "python",
   "pygments_lexer": "ipython3",
   "version": "3.6.4"
  }
 },
 "nbformat": 4,
 "nbformat_minor": 2
}
