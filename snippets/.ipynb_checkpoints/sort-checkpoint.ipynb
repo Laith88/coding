{
 "cells": [
  {
   "cell_type": "code",
   "execution_count": 46,
   "metadata": {},
   "outputs": [
    {
     "name": "stdout",
     "output_type": "stream",
     "text": [
      "Overwriting selection_sort.py\n"
     ]
    }
   ],
   "source": [
    "%%writefile sort.py\n",
    "\n",
    "class SelectionSort(object):\n",
    "    def sort(self, list_in):\n",
    "        if list_in is None:\n",
    "            raise TypeError('input can not be None')\n",
    "        if len(list_in) < 2:\n",
    "            return list_in\n",
    "        for selected_index in range(len(list_in)-1):\n",
    "            temp = selected_index\n",
    "            for next_index in range(selected_index+1, len(list_in)):\n",
    "                if list_in[next_index] < list_in[temp]:\n",
    "                    temp = next_index\n",
    "            list_in[temp], list_in[selected_index] = list_in[selected_index], list_in[temp]\n",
    "        return list_in"
   ]
  },
  {
   "cell_type": "code",
   "execution_count": 93,
   "metadata": {},
   "outputs": [],
   "source": [
    "class InsertionSort(object):\n",
    "    def sort(self, list_in):\n",
    "        if list_in is None:\n",
    "            return TypeError('input can not be None')\n",
    "        if len(list_in)<2:\n",
    "            return list_in\n",
    "        for inseration_index in range(1, len(list_in)):\n",
    "            for next_index in range(inseration_index):\n",
    "                if list_in[inseration_index] < list_in[next_index]:\n",
    "                    tmp = list_in[inseration_index]\n",
    "                    list_in[next_index+1:inseration_index+1] = list_in[next_index:inseration_index]\n",
    "                    list_in[next_index] = tmp\n",
    "        return list_in"
   ]
  },
  {
   "cell_type": "code",
   "execution_count": 91,
   "metadata": {},
   "outputs": [],
   "source": [
    "class SelectionSort(object):\n",
    "    def sort(self, list_in):\n",
    "        if list_in is None:\n",
    "            raise TypeError('input can not be None')\n",
    "        if len(list_in) < 2:\n",
    "            return list_in\n",
    "        for selected_index in range(len(list_in)-1):\n",
    "            temp = selected_index\n",
    "            for next_index in range(selected_index+1, len(list_in)):\n",
    "                if list_in[next_index] < list_in[temp]:\n",
    "                    temp = next_index\n",
    "            list_in[temp], list_in[selected_index] = list_in[selected_index], list_in[temp]\n",
    "        return list_in"
   ]
  },
  {
   "cell_type": "code",
   "execution_count": 115,
   "metadata": {},
   "outputs": [],
   "source": [
    "class MergeSort(object):\n",
    "    \"\"\" Sort a list based on the merge sort algorithm \"\"\"\n",
    "    \n",
    "    def sort(self, list_in):\n",
    "        if list_in is None:\n",
    "            raise TypeError('input list can not be none')\n",
    "        return self._sort(list_in)\n",
    "    \n",
    "    def _sort(self, list_in):\n",
    "        if len(list_in)<2:\n",
    "            return list_in\n",
    "        mid = len(list_in)//2\n",
    "        right = list_in[:mid]\n",
    "        left = list_in[mid:]\n",
    "        right_ = self._sort(right)\n",
    "        left_ = self._sort(left)\n",
    "        return self._merge(left, right)\n",
    "    \n",
    "    def _merge(self, left, right):\n",
    "        index_l = 0\n",
    "        index_r = 0\n",
    "        result = []\n",
    "        while index_l < len(left) and index_r < len(right):\n",
    "            if left[index_l] < right[index_r]:\n",
    "                result.append(left[index_l])\n",
    "                index_l += 1\n",
    "            else:\n",
    "                result.append(right[index_r])\n",
    "                index_r += 1\n",
    "        while index_l < len(left):\n",
    "            result.append(left[index_l])\n",
    "            index_l += 1\n",
    "        while index_r < len(right):\n",
    "            result.append(right[index_r])\n",
    "            index_r += 1\n",
    "        return result\n",
    "    "
   ]
  },
  {
   "cell_type": "code",
   "execution_count": 113,
   "metadata": {},
   "outputs": [],
   "source": [
    "class QuickSort(object):\n",
    "    def quick_sort(self, list_in):\n",
    "        if list_in is None:\n",
    "            raise TypeError('input can not be None')\n",
    "        return self._quick_sort(list_in)\n",
    "\n",
    "    def _quick_sort(self, list_in):\n",
    "        if len(list_in) < 2:\n",
    "            return list_in\n",
    "        left = []\n",
    "        right = []\n",
    "        equal = []\n",
    "        pivot = list_in[len(list_in)//2]\n",
    "        for element in list_in:\n",
    "            if element == pivot:\n",
    "                equal.append(element)\n",
    "            elif element > pivot:\n",
    "                right.append(element)\n",
    "            else:\n",
    "                left.append(element)\n",
    "\n",
    "        if len(left)>len(right):\n",
    "            _left = self._quick_sort(left)\n",
    "            _right = self._quick_sort(right)\n",
    "        else:\n",
    "            _right = self._quick_sort(right)\n",
    "            _left = self._quick_sort(left)\n",
    "        return _left + equal + _right"
   ]
  },
  {
   "cell_type": "code",
   "execution_count": 112,
   "metadata": {},
   "outputs": [
    {
     "name": "stdout",
     "output_type": "stream",
     "text": [
      "6.93 µs ± 35.9 ns per loop (mean ± std. dev. of 7 runs, 100000 loops each)\n"
     ]
    }
   ],
   "source": [
    "%%timeit\n",
    "QuickSort().quick_sort([1, 12, 5, 5,12,73,2,34, 21 ,3, 234, 2,1])"
   ]
  },
  {
   "cell_type": "code",
   "execution_count": 114,
   "metadata": {},
   "outputs": [
    {
     "name": "stdout",
     "output_type": "stream",
     "text": [
      "7.14 µs ± 141 ns per loop (mean ± std. dev. of 7 runs, 100000 loops each)\n"
     ]
    }
   ],
   "source": [
    "%%timeit\n",
    "QuickSort().quick_sort([1, 12, 5, 5,12,73,2,34, 21 ,3, 234, 2,1])"
   ]
  },
  {
   "cell_type": "code",
   "execution_count": 110,
   "metadata": {},
   "outputs": [
    {
     "name": "stdout",
     "output_type": "stream",
     "text": [
      "6.49 µs ± 37.2 ns per loop (mean ± std. dev. of 7 runs, 100000 loops each)\n"
     ]
    }
   ],
   "source": [
    "%%timeit\n",
    "QuickSort().quick_sort([1, 12, 5, 5,12,73,2,34, 21 ,3, 234, 2,1])"
   ]
  },
  {
   "cell_type": "code",
   "execution_count": 117,
   "metadata": {},
   "outputs": [
    {
     "name": "stdout",
     "output_type": "stream",
     "text": [
      "19.3 µs ± 185 ns per loop (mean ± std. dev. of 7 runs, 10000 loops each)\n"
     ]
    }
   ],
   "source": [
    "%%timeit\n",
    "MergeSort().sort([1, 12, 5, 5,12,73,2,34, 21 ,3, 234, 2,1])"
   ]
  },
  {
   "cell_type": "code",
   "execution_count": null,
   "metadata": {},
   "outputs": [],
   "source": []
  }
 ],
 "metadata": {
  "kernelspec": {
   "display_name": "Python 3",
   "language": "python",
   "name": "python3"
  },
  "language_info": {
   "codemirror_mode": {
    "name": "ipython",
    "version": 3
   },
   "file_extension": ".py",
   "mimetype": "text/x-python",
   "name": "python",
   "nbconvert_exporter": "python",
   "pygments_lexer": "ipython3",
   "version": "3.6.4"
  }
 },
 "nbformat": 4,
 "nbformat_minor": 2
}
