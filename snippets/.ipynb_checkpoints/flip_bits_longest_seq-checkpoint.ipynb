{
 "cells": [
  {
   "cell_type": "code",
   "execution_count": 91,
   "metadata": {},
   "outputs": [],
   "source": [
    "def _build_seen(num):\n",
    "    d_bit = 0\n",
    "    count = 0\n",
    "    seen = []\n",
    "    for _ in range(32):\n",
    "        if num & 1 != d_bit:\n",
    "            seen.append(count)\n",
    "            d_bit = not d_bit\n",
    "            count = 0\n",
    "        count += 1\n",
    "        num >>= 1\n",
    "    seen.append(count)\n",
    "    return seen\n",
    "\n",
    "def find_longest(num):\n",
    "    if num is None:\n",
    "        raise TypeError('num can not be None')\n",
    "    if num == -1:\n",
    "        return 32\n",
    "    if num == 0:\n",
    "        return 1\n",
    "    seen = _build_seen(num)\n",
    "    cache = {}\n",
    "    for index, count in enumerate(seen):\n",
    "        if index % 2 == 0 and seen[index] == 1:\n",
    "            if index == 0:\n",
    "                cache[index] = seen[index+1] + 1\n",
    "            elif index == len(seen):\n",
    "                cache[index] = seen[index-1] + 1\n",
    "            elif index > 0 and index < len(seen)-1:\n",
    "                print(index)\n",
    "                cache[index] = seen[index-1] + seen[index+1] + 1 \n",
    "    longest_seq = 0\n",
    "    _flip_index = 0\n",
    "    for index in cache: \n",
    "        if cache[index] > longest_seq:\n",
    "            longest_seq = cache[index]\n",
    "            _flip_index = index\n",
    "    flip_index =0\n",
    "    for i in seen[:_flip_index]:\n",
    "        flip_index += i\n",
    "    return flip_index, longest_seq\n",
    "    \n",
    "    "
   ]
  },
  {
   "cell_type": "code",
   "execution_count": 92,
   "metadata": {},
   "outputs": [],
   "source": [
    "num = int('00001111110111011110001111110000', base=2)"
   ]
  },
  {
   "cell_type": "code",
   "execution_count": null,
   "metadata": {},
   "outputs": [],
   "source": [
    "find_longest(num)"
   ]
  }
 ],
 "metadata": {
  "kernelspec": {
   "display_name": "Python 3",
   "language": "python",
   "name": "python3"
  },
  "language_info": {
   "codemirror_mode": {
    "name": "ipython",
    "version": 3
   },
   "file_extension": ".py",
   "mimetype": "text/x-python",
   "name": "python",
   "nbconvert_exporter": "python",
   "pygments_lexer": "ipython3",
   "version": "3.6.4"
  }
 },
 "nbformat": 4,
 "nbformat_minor": 2
}
