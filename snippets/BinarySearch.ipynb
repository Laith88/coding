{
 "cells": [
  {
   "cell_type": "code",
   "execution_count": null,
   "metadata": {},
   "outputs": [],
   "source": [
    "def sequential_search(alist, item):\n",
    "    for element in alist:\n",
    "        if item == element:\n",
    "            return True\n",
    "    return False"
   ]
  },
  {
   "cell_type": "code",
   "execution_count": null,
   "metadata": {},
   "outputs": [],
   "source": [
    "def sequential_search(alist, item):\n",
    "    found = False\n",
    "    last = len(alist)\n",
    "    pos = 0\n",
    "    \n",
    "    while not found  and pos <= last:\n",
    "        if alist[pos] == item:\n",
    "            found = True\n",
    "            post += 1\n",
    "    return found"
   ]
  },
  {
   "cell_type": "code",
   "execution_count": null,
   "metadata": {},
   "outputs": [],
   "source": [
    "def binary_search_rec(alist, item):\n",
    "    if len(alist) == 0:\n",
    "        return False\n",
    "    else:\n",
    "        midpoint = len(alist)//2\n",
    "        if alist[midpoint]== item:\n",
    "            return True\n",
    "        else:\n",
    "            if alist[midpoint]<item:\n",
    "                return binary_search_rec(alist[:midpoint], item)\n",
    "            else:\n",
    "                return binary_search_rec(alist[midpoint+1:], item)"
   ]
  },
  {
   "cell_type": "code",
   "execution_count": 9,
   "metadata": {},
   "outputs": [],
   "source": [
    "def binary_search_seq(list_in, item):\n",
    "    found = False\n",
    "    first = 0\n",
    "    last = len(list_in) - 1\n",
    "    \n",
    "    while first<=last and not found:\n",
    "        midpoint = (first + last) // 2\n",
    "        if list_in[midpoint] == item:\n",
    "            found = True\n",
    "        else:\n",
    "            if list_in[midpoint] > item:\n",
    "                last = midpoint - 1\n",
    "            else:\n",
    "                first = midpoint + 1\n",
    "            \n",
    "    return found"
   ]
  },
  {
   "cell_type": "code",
   "execution_count": 10,
   "metadata": {},
   "outputs": [],
   "source": [
    "test = [1, 2, 12, 42, 62, 72, 73, 82]"
   ]
  },
  {
   "cell_type": "code",
   "execution_count": 18,
   "metadata": {},
   "outputs": [
    {
     "name": "stdout",
     "output_type": "stream",
     "text": [
      "478 ns ± 1.43 ns per loop (mean ± std. dev. of 7 runs, 1000000 loops each)\n"
     ]
    }
   ],
   "source": [
    "%%timeit\n",
    "binary_search_seq(test, 12)"
   ]
  },
  {
   "cell_type": "code",
   "execution_count": 25,
   "metadata": {},
   "outputs": [
    {
     "name": "stdout",
     "output_type": "stream",
     "text": [
      "240 ns ± 1.33 ns per loop (mean ± std. dev. of 7 runs, 1000000 loops each)\n"
     ]
    }
   ],
   "source": [
    "%%timeit\n",
    "binary_search_seq(test, 42)"
   ]
  },
  {
   "cell_type": "code",
   "execution_count": 26,
   "metadata": {},
   "outputs": [
    {
     "name": "stdout",
     "output_type": "stream",
     "text": [
      "837 ns ± 1.71 ns per loop (mean ± std. dev. of 7 runs, 1000000 loops each)\n"
     ]
    }
   ],
   "source": [
    "%%timeit\n",
    "binary_search_rec(None, 42)"
   ]
  },
  {
   "cell_type": "code",
   "execution_count": 30,
   "metadata": {},
   "outputs": [],
   "source": [
    "def binary_search_rec(list_in, item):\n",
    "    if not list_in:\n",
    "        raise Exception('list input can not be None')\n",
    "    if len(list_in) == 0:\n",
    "        return False\n",
    "    else:\n",
    "        midpoint = len(list_in)//2\n",
    "        if item == list_in[midpoint]:\n",
    "            return True\n",
    "        else:\n",
    "            if item > list_in[midpoint]:\n",
    "                return binary_search_rec(list_in[midpoint+1:], item)\n",
    "            else:\n",
    "                return binary_search_rec(list_in[:midpoint], item)\n",
    "        \n",
    "           "
   ]
  },
  {
   "cell_type": "code",
   "execution_count": null,
   "metadata": {},
   "outputs": [],
   "source": []
  }
 ],
 "metadata": {
  "kernelspec": {
   "display_name": "Python 3",
   "language": "python",
   "name": "python3"
  },
  "language_info": {
   "codemirror_mode": {
    "name": "ipython",
    "version": 3
   },
   "file_extension": ".py",
   "mimetype": "text/x-python",
   "name": "python",
   "nbconvert_exporter": "python",
   "pygments_lexer": "ipython3",
   "version": "3.6.4"
  }
 },
 "nbformat": 4,
 "nbformat_minor": 2
}
