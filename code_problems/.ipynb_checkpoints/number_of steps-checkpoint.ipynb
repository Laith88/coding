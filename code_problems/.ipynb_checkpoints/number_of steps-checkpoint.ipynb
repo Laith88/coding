{
 "cells": [
  {
   "cell_type": "code",
   "execution_count": 60,
   "metadata": {},
   "outputs": [],
   "source": [
    "class Steps(object):\n",
    "    \n",
    "    def count_ways(self, n):\n",
    "        if n is None:\n",
    "            raise TypeError('Invalid input: please input a positive int')\n",
    "        elif n <0:\n",
    "            return 0\n",
    "        elif n == 0:\n",
    "            return 1 # ofcourse we can have this as zero but then we would an additional base case otherwise we would be just be adding multiple zeros\n",
    "        else:\n",
    "            return self.count_ways(n-1) + self.count_ways(n-2) + self.count_ways(n-3)\n",
    "    \n",
    "    def count_ways_memo(self, n):\n",
    "        if n is None or n < 0:\n",
    "            raise TypeError('number of steps can not be none or negative')\n",
    "        cache = {}\n",
    "        return self._count_ways(n, cache)\n",
    "    \n",
    "    def _count_ways(self, n, cache):\n",
    "        if n < 0:\n",
    "            return 0 \n",
    "        if n == 0:\n",
    "            return 1\n",
    "        if n in cache:\n",
    "            return cache[n]\n",
    "        cache[n] = self._count_ways(n-1,cache) + self._count_ways(n-2,cache) + self._count_ways(n-3,cache)\n",
    "        return cache[n]\n",
    "    "
   ]
  },
  {
   "cell_type": "code",
   "execution_count": 61,
   "metadata": {},
   "outputs": [],
   "source": [
    "ns = Steps()"
   ]
  },
  {
   "cell_type": "code",
   "execution_count": 64,
   "metadata": {},
   "outputs": [
    {
     "name": "stdout",
     "output_type": "stream",
     "text": [
      "9.68 µs ± 34.6 ns per loop (mean ± std. dev. of 7 runs, 100000 loops each)\n"
     ]
    }
   ],
   "source": [
    "%%timeit\n",
    "ns.count_ways_memo(19)"
   ]
  },
  {
   "cell_type": "code",
   "execution_count": 65,
   "metadata": {},
   "outputs": [
    {
     "name": "stdout",
     "output_type": "stream",
     "text": [
      "29.1 ms ± 228 µs per loop (mean ± std. dev. of 7 runs, 10 loops each)\n"
     ]
    }
   ],
   "source": [
    "%%timeit\n",
    "ns.count_ways(19)"
   ]
  },
  {
   "cell_type": "code",
   "execution_count": null,
   "metadata": {},
   "outputs": [],
   "source": []
  }
 ],
 "metadata": {
  "kernelspec": {
   "display_name": "Python 3",
   "language": "python",
   "name": "python3"
  },
  "language_info": {
   "codemirror_mode": {
    "name": "ipython",
    "version": 3
   },
   "file_extension": ".py",
   "mimetype": "text/x-python",
   "name": "python",
   "nbconvert_exporter": "python",
   "pygments_lexer": "ipython3",
   "version": "3.6.4"
  }
 },
 "nbformat": 4,
 "nbformat_minor": 2
}
