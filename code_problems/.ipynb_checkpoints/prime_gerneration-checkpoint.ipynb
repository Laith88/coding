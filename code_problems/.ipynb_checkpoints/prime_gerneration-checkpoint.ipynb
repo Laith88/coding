{
 "cells": [
  {
   "cell_type": "code",
   "execution_count": 12,
   "metadata": {},
   "outputs": [
    {
     "name": "stdout",
     "output_type": "stream",
     "text": [
      "Writing prime_generator.py\n"
     ]
    }
   ],
   "source": [
    "%%writefile prime_generator.py\n",
    "\n",
    "class PrimeGenerator(object):\n",
    "    \"\"\"Class wrapper for prime generator.\"\"\"\n",
    "    def generate_prime(self, max_num:int)->list:\n",
    "        \"\"\" \n",
    "        Return an array of all the primes as True in the prime index.\n",
    "        Args:\n",
    "            s1 (str): string to be compressed\n",
    "\n",
    "        Returns:\n",
    "            list: Array of Booleans, default is false, True at the index of primes\n",
    "\n",
    "        Examples:\n",
    "\n",
    "        >>> pg = PrimeGenerator()\n",
    "        >>> pg.generate_prime(10)\n",
    "        [False, False, True, True, False, True, False, True, False, False]\n",
    "        \n",
    "        \"\"\"\n",
    "        if max_num is None:\n",
    "            raise TypeError('max_num can not be none')\n",
    "        array = [True] * max_num\n",
    "        array[0] = False\n",
    "        array[1] = False\n",
    "        prime = 2\n",
    "        while prime <= max_num ** 0.5:\n",
    "            self._cross_off(array, prime)\n",
    "            prime = self._next_prime(array, prime)\n",
    "        return array\n",
    "    \n",
    "    def _cross_off(self, array, prime):\n",
    "        for i in range(prime*prime, len(array), prime):\n",
    "            array[i] = False\n",
    "    \n",
    "    def _next_prime(self, array, prime):\n",
    "        next = prime + 1\n",
    "        while next < len(array) and not array[next]:\n",
    "            next += 1\n",
    "        return next"
   ]
  },
  {
   "cell_type": "code",
   "execution_count": 11,
   "metadata": {},
   "outputs": [
    {
     "data": {
      "text/plain": [
       "[False, False, True, True, False, True, False, True, False, False]"
      ]
     },
     "execution_count": 11,
     "metadata": {},
     "output_type": "execute_result"
    }
   ],
   "source": [
    "pg = PrimeGenerator()\n",
    "pg.generate_prime(10)"
   ]
  }
 ],
 "metadata": {
  "kernelspec": {
   "display_name": "Python 3",
   "language": "python",
   "name": "python3"
  },
  "language_info": {
   "codemirror_mode": {
    "name": "ipython",
    "version": 3
   },
   "file_extension": ".py",
   "mimetype": "text/x-python",
   "name": "python",
   "nbconvert_exporter": "python",
   "pygments_lexer": "ipython3",
   "version": "3.6.4"
  }
 },
 "nbformat": 4,
 "nbformat_minor": 2
}
