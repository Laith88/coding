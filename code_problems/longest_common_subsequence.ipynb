{
 "cells": [
  {
   "cell_type": "code",
   "execution_count": 8,
   "metadata": {},
   "outputs": [],
   "source": [
    "def lcs(X, Y, m, n):\n",
    "    if m == 0 or n == 0:\n",
    "        return 0\n",
    "    elif X[m-1] == Y[n-1]:\n",
    "        return 1 + lcs(X, Y, m-1, n-1)\n",
    "    else:\n",
    "        return max(lcs(X, Y, m-1, n), lcs(X, Y, m, n-1))\n",
    "    "
   ]
  },
  {
   "cell_type": "code",
   "execution_count": 35,
   "metadata": {},
   "outputs": [
    {
     "name": "stdout",
     "output_type": "stream",
     "text": [
      "Length of LCS is  (4, 'GTAB')\n"
     ]
    }
   ],
   "source": [
    "X = \"AGGTAB\"\n",
    "Y = \"GXTXAYB\"\n",
    "print(\"Length of LCS is \", lcs_tab(X , Y))"
   ]
  },
  {
   "cell_type": "code",
   "execution_count": 19,
   "metadata": {},
   "outputs": [],
   "source": [
    "L = [[None]*(5+1) for _ in range(6+1)]\n",
    "    "
   ]
  },
  {
   "cell_type": "code",
   "execution_count": 34,
   "metadata": {},
   "outputs": [],
   "source": [
    "def lcs_tab(X, Y):\n",
    "    # find the length of the strings\n",
    "    m = len(X)\n",
    "    n = len(Y)\n",
    "    \n",
    "    #Greate the table to store the dp values\n",
    "    L = [[None]*(n+1) for _ in range(m+1)]\n",
    "    \n",
    "    for i in range(m+1):\n",
    "        for j in range(n+1):\n",
    "            if i == 0 or j == 0: \n",
    "                L[i][j]=0\n",
    "            elif X[i-1] == Y[j-1]:\n",
    "                L[i][j] = L[i-1][j-1] + 1\n",
    "            else:\n",
    "                L[i][j] = max(L[i-1][j], L[i][j-1])\n",
    "    \n",
    "    lcs_len = L[m][n]            \n",
    "    lcs_str = ''            \n",
    "    while L[m][n]:\n",
    "        if L[m][n] == L[m-1][n]:\n",
    "            m -= 1\n",
    "        elif L[m][n] == L[m][n-1]:\n",
    "            n -= 1\n",
    "        elif L[m][n] == L[m-1][n-1]+1:\n",
    "            lcs_str += X[m-1]\n",
    "            m -= 1\n",
    "            n -= 1\n",
    "        else:\n",
    "            raise Expection('Error constructing the table!')\n",
    "                \n",
    "    return lcs_len, lcs_str[::-1]"
   ]
  },
  {
   "cell_type": "code",
   "execution_count": null,
   "metadata": {},
   "outputs": [],
   "source": []
  }
 ],
 "metadata": {
  "kernelspec": {
   "display_name": "Python 3",
   "language": "python",
   "name": "python3"
  },
  "language_info": {
   "codemirror_mode": {
    "name": "ipython",
    "version": 3
   },
   "file_extension": ".py",
   "mimetype": "text/x-python",
   "name": "python",
   "nbconvert_exporter": "python",
   "pygments_lexer": "ipython3",
   "version": "3.6.4"
  }
 },
 "nbformat": 4,
 "nbformat_minor": 2
}
