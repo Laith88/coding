{
 "cells": [
  {
   "cell_type": "code",
   "execution_count": null,
   "metadata": {},
   "outputs": [],
   "source": [
    "%%writefile compress_string.py\n",
    "class CompressString(object):\n",
    "    \"\"\" compress a string \"\"\"\n",
    "    \n",
    "    def compress(self, s1:str) -> str:\n",
    "         \"\"\"compress a string into a numerical representation.\n",
    "\n",
    "        Args:\n",
    "            s1 (str): string to be compressed\n",
    "\n",
    "        Returns:\n",
    "            str: The return value. compressed string\n",
    "\n",
    "        Examples:\n",
    "\n",
    "        >>> cs = CompressString()\n",
    "        >>> cs.compress('AAABCCDDDDE')\n",
    "        'A3BC2D4E'\n",
    "\n",
    "        \"\"\"\n",
    "\n",
    "        if s1 is None:\n",
    "            return None\n",
    "        if s1 is '':\n",
    "            return ''\n",
    "        result = ''\n",
    "        cache = []\n",
    "        for char in s1:\n",
    "            if char in cache:\n",
    "                continue\n",
    "            else:\n",
    "                cache.append(char)\n",
    "            tmp_count = s1.count(char)\n",
    "            if tmp_count > 1:\n",
    "                result = result + char + str(tmp_count)\n",
    "            else:\n",
    "                result = result + char\n",
    "        return result"
   ]
  },
  {
   "cell_type": "code",
   "execution_count": null,
   "metadata": {},
   "outputs": [],
   "source": []
  }
 ],
 "metadata": {
  "kernelspec": {
   "display_name": "Python 3",
   "language": "python",
   "name": "python3"
  },
  "language_info": {
   "codemirror_mode": {
    "name": "ipython",
    "version": 3
   },
   "file_extension": ".py",
   "mimetype": "text/x-python",
   "name": "python",
   "nbconvert_exporter": "python",
   "pygments_lexer": "ipython3",
   "version": "3.6.4"
  }
 },
 "nbformat": 4,
 "nbformat_minor": 2
}
