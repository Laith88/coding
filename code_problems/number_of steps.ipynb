{
 "cells": [
  {
   "cell_type": "code",
   "execution_count": 66,
   "metadata": {},
   "outputs": [],
   "source": [
    "class Steps(object):\n",
    "    \"\"\" Count number of ways to climb up a staircase while taking 1, 2 or 3 steps at at time\"\"\"\n",
    "\n",
    "    def count_ways(self, n:int) -> int:\n",
    "        \"\"\"\n",
    "        Count the number of ways we can climb up the stairs such that we only take 1,2 or 3 steps at a time.\n",
    "\n",
    "        Args:\n",
    "            n1 (int): number of stairs\n",
    "\n",
    "        Returns:\n",
    "            int: The number of ways possible\n",
    "\n",
    "        Examples:\n",
    "\n",
    "        >>> cs = CompressString()\n",
    "        >>> cs.compress('AAABCCDDDDE')\n",
    "        'A3BC2D4E'\n",
    "        \"\"\"\n",
    "        if n is None:\n",
    "            raise TypeError('Invalid input: please input a positive int')\n",
    "        elif n <0:\n",
    "            return 0\n",
    "        elif n == 0:\n",
    "            return 1 # ofcourse we can have this as zero but then we would an additional base case otherwise we would be just be adding multiple zeros\n",
    "        else:\n",
    "            return self.count_ways(n-1) + self.count_ways(n-2) + self.count_ways(n-3)\n",
    "    \n",
    "    def count_ways_memo(self, n):\n",
    "        if n is None or n < 0:\n",
    "            raise TypeError('number of steps can not be none or negative')\n",
    "        cache = {}\n",
    "        return self._count_ways(n, cache)\n",
    "    \n",
    "    def _count_ways(self, n, cache):\n",
    "        if n < 0:\n",
    "            return 0 \n",
    "        if n == 0:\n",
    "            return 1\n",
    "        if n in cache:\n",
    "            return cache[n]\n",
    "        cache[n] = self._count_ways(n-1,cache) + self._count_ways(n-2,cache) + self._count_ways(n-3,cache)\n",
    "        return cache[n]\n",
    "    "
   ]
  },
  {
   "cell_type": "code",
   "execution_count": 67,
   "metadata": {},
   "outputs": [],
   "source": [
    "ns = Steps()"
   ]
  },
  {
   "cell_type": "code",
   "execution_count": 68,
   "metadata": {},
   "outputs": [
    {
     "data": {
      "text/plain": [
       "66012"
      ]
     },
     "execution_count": 68,
     "metadata": {},
     "output_type": "execute_result"
    }
   ],
   "source": [
    "ns.count_ways_memo(19)"
   ]
  },
  {
   "cell_type": "code",
   "execution_count": 64,
   "metadata": {},
   "outputs": [
    {
     "name": "stdout",
     "output_type": "stream",
     "text": [
      "9.68 µs ± 34.6 ns per loop (mean ± std. dev. of 7 runs, 100000 loops each)\n"
     ]
    }
   ],
   "source": [
    "%%timeit\n",
    "ns.count_ways_memo(19)"
   ]
  },
  {
   "cell_type": "code",
   "execution_count": 65,
   "metadata": {},
   "outputs": [
    {
     "name": "stdout",
     "output_type": "stream",
     "text": [
      "29.1 ms ± 228 µs per loop (mean ± std. dev. of 7 runs, 10 loops each)\n"
     ]
    }
   ],
   "source": [
    "%%timeit\n",
    "ns.count_ways(19)"
   ]
  },
  {
   "cell_type": "code",
   "execution_count": null,
   "metadata": {},
   "outputs": [],
   "source": []
  }
 ],
 "metadata": {
  "kernelspec": {
   "display_name": "Python 3",
   "language": "python",
   "name": "python3"
  },
  "language_info": {
   "codemirror_mode": {
    "name": "ipython",
    "version": 3
   },
   "file_extension": ".py",
   "mimetype": "text/x-python",
   "name": "python",
   "nbconvert_exporter": "python",
   "pygments_lexer": "ipython3",
   "version": "3.6.4"
  }
 },
 "nbformat": 4,
 "nbformat_minor": 2
}
