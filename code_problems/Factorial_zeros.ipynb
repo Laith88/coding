{
 "cells": [
  {
   "cell_type": "markdown",
   "metadata": {},
   "source": [
    "### Problem: \n",
    "* Write an algorithim which computes the number of trailing zeros in factorial \n",
    "\n",
    "### Assumptions & constraints:\n",
    "* Can we assume the input is int? \n",
    "* Can we assume that the input is valid?\n",
    "\n",
    "### Test cases:\n",
    "* Any None input -> Exception\n",
    "* Two equal inputs: (5, 5) -> (5, 5)\n",
    "* Two different equals: (6, 4) -> (4, 6)\n",
    "\n",
    "### Algorithm:\n",
    "* Approach 1:\n",
    "    * since 10 = 2* 5, and since there are 5>>2 in a number, count the numbers of 5s\n",
    "        * for each number from 2 -> n:int input check if multiple of 5 \n",
    "        * if multiple of 5, see how many 5's in that num e.g. 25= 2 5s"
   ]
  },
  {
   "cell_type": "code",
   "execution_count": 20,
   "metadata": {},
   "outputs": [
    {
     "name": "stdout",
     "output_type": "stream",
     "text": [
      "Writing factorial_zeros.py\n"
     ]
    }
   ],
   "source": [
    "%%writefile factorial_zeros.py\n",
    "\n",
    "class FactorialZeros(object):\n",
    "    \"\"\"return the number of trailing zeros of a factorial n! where n:int\"\"\"\n",
    "    def count_zeros(self, num):\n",
    "        if num is None:\n",
    "            raise Exception('input can not be None')\n",
    "        num_5s = 0\n",
    "        for i in range(2,num+1):\n",
    "            num_5s  += self._find_num_5s(i)\n",
    "        return num_5s\n",
    "    \n",
    "    def _find_num_5s(self, num):\n",
    "        tmp = 0\n",
    "        while num > 0 and num % 5 == 0:\n",
    "            tmp += 1\n",
    "            num = num // 5\n",
    "        return tmp"
   ]
  },
  {
   "cell_type": "code",
   "execution_count": 23,
   "metadata": {},
   "outputs": [
    {
     "name": "stdout",
     "output_type": "stream",
     "text": [
      "Overwriting test_factorial_zeros.py\n"
     ]
    }
   ],
   "source": [
    "%%writefile test_factorial_zeros.py\n",
    "\n",
    "import unittest\n",
    "from factorial_zeros import FactorialZeros\n",
    "\n",
    "class TestFactorialZeros(unittest.TestCase):\n",
    "    \"\"\" Test the implementation of swap numbers solution \"\"\"\n",
    "        \n",
    "    def test_factorial_zeros_general_case(self):\n",
    "        fz = FactorialZeros()\n",
    "        result = fz.count_zeros(15)\n",
    "        self.assertEqual(result, 3)\n",
    "    \n",
    "    def test_factorial_zeros_none_input(self):\n",
    "        fz = FactorialZeros()\n",
    "        self.assertRaises(Exception,fz.count_zeros, None)\n",
    "        \n",
    "if __name__ == '__main__':\n",
    "    unittest.main()"
   ]
  },
  {
   "cell_type": "code",
   "execution_count": 24,
   "metadata": {
    "scrolled": true
   },
   "outputs": [
    {
     "name": "stderr",
     "output_type": "stream",
     "text": [
      "..\n",
      "----------------------------------------------------------------------\n",
      "Ran 2 tests in 0.002s\n",
      "\n",
      "OK\n"
     ]
    }
   ],
   "source": [
    "%run -i test_factorial_zeros.py"
   ]
  }
 ],
 "metadata": {
  "kernelspec": {
   "display_name": "Python 3",
   "language": "python",
   "name": "python3"
  },
  "language_info": {
   "codemirror_mode": {
    "name": "ipython",
    "version": 3
   },
   "file_extension": ".py",
   "mimetype": "text/x-python",
   "name": "python",
   "nbconvert_exporter": "python",
   "pygments_lexer": "ipython3",
   "version": "3.6.4"
  }
 },
 "nbformat": 4,
 "nbformat_minor": 2
}
