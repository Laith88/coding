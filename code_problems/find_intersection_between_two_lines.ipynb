{
 "cells": [
  {
   "cell_type": "markdown",
   "metadata": {},
   "source": [
    "### Problem: \n",
    "* Given two straight line segments (represented as a start point and an end point), compute the point of intersection if any.\n",
    "\n",
    "### Assumptions & constraints:\n",
    "* Implement point & line classes\n",
    "* Define a factor delta that is used to compare two floats\n",
    "* Return False if no intersection\n",
    "* Validate input:\n",
    "    * input to point must be not None\n",
    "    * input to line has to be two points\n",
    "\n",
    "### Test cases:\n",
    "* vertical line -> Exception\n",
    "* two parallel lines -> False\n",
    "* General case of intersection\n",
    "* General case of no intersection\n"
   ]
  },
  {
   "cell_type": "code",
   "execution_count": 170,
   "metadata": {},
   "outputs": [
    {
     "name": "stdout",
     "output_type": "stream",
     "text": [
      "Overwriting find_intersection.py\n"
     ]
    }
   ],
   "source": [
    "%%writefile find_intersection.py\n",
    "\n",
    "class Point(object):\n",
    "    \"\"\" return a point data stucture \"\"\"\n",
    "    def __init__(self, x, y):\n",
    "        self.x = x\n",
    "        self.y = y\n",
    "\n",
    "    @property\n",
    "    def x(self):\n",
    "        return self._x\n",
    "    \n",
    "    @property\n",
    "    def y(self):\n",
    "        return self._y\n",
    "    \n",
    "    @y.setter\n",
    "    def y(self, y):\n",
    "        if not y: raise Exception('y can not be none')\n",
    "        self._y = y\n",
    "    \n",
    "    @x.setter\n",
    "    def x(self, x):\n",
    "        if not x: raise Exception('x can not be none')\n",
    "        self._x = x\n",
    "\n",
    "class Line(object):\n",
    "    \"\"\" return a point line stucture \"\"\"\n",
    "    def __init__(self, point1, point2):\n",
    "        self.x2 = max(point1.x, point2.x)\n",
    "        self.y1 = min(point1.y, point2.y)\n",
    "        self.x1 = min(point1.x, point2.x)\n",
    "        self.y2 = max(point1.y, point2.y)\n",
    "        #catch a vertical line\n",
    "        try:\n",
    "            self.m = (point2.y-point1.y)/(point2.x-point1.x)\n",
    "        except ZeroDivisionError as err:\n",
    "            raise Exception('can not be vertical line')\n",
    "        self.b = point1.y - (self.m*point1.x)\n",
    "        \n",
    "    def fun(self, x):\n",
    "        \"\"\" return the y value given an x input for that specific line \"\"\"\n",
    "        return self.m * x + self.b\n",
    "    \n",
    "class FindIntersection(object):\n",
    "    \"\"\" find an intersection point between two line segments \"\"\"\n",
    "    def __init__(self, delta = 0.001):\n",
    "        self.delta = delta\n",
    "        \n",
    "    def find_intesection(self, l1, l2):\n",
    "        if l1.m == l2.m:\n",
    "            return False\n",
    "        #catch division by zero\n",
    "        try:\n",
    "            x_p = (l1.b - l2.b) / (l2.m - l1.m)\n",
    "        except ZeroDivisionError:\n",
    "            return False    \n",
    "        #make sure that we are still in the same range of the input segments\n",
    "        if x_p >= max(l1.x1, l2.x1) and x_p <= min(l1.x2, l2.x2):\n",
    "            y_p1 = l1.fun(x_p)\n",
    "            y_p2 = l2.fun(x_p)\n",
    "            if (y_p1 - y_p2) < self.delta:\n",
    "                return (x_p, y_p1)\n",
    "            else:\n",
    "                return False\n",
    "        else:\n",
    "            return False"
   ]
  },
  {
   "cell_type": "code",
   "execution_count": 171,
   "metadata": {},
   "outputs": [
    {
     "name": "stdout",
     "output_type": "stream",
     "text": [
      "Overwriting test_find_intersection.py\n"
     ]
    }
   ],
   "source": [
    "%%writefile test_find_intersection.py\n",
    "\n",
    "import unittest\n",
    "from find_intersection import Point, Line, FindIntersection\n",
    "\n",
    "class TestSwapNumbers(unittest.TestCase):\n",
    "    \"\"\" Test the implementation of swap numbers solution \"\"\"\n",
    "        \n",
    "    def test_intersection_general_case(self):\n",
    "        p1 = Point(4,1)\n",
    "        p2 = Point(7,6)\n",
    "        p3 = Point(4,6)\n",
    "        p4 = Point(7,1)\n",
    "        l1 = Line(p1, p2)\n",
    "        l2 = Line(p3, p4)\n",
    "        fi = FindIntersection()\n",
    "        (a,b) = fi.find_intesection(l1, l2)\n",
    "        self.assertAlmostEqual(a, 5.5)\n",
    "        self.assertAlmostEqual(b, 3.5)\n",
    "    \n",
    "    def test_no_intersection_general_case(self):\n",
    "        p1 = Point(1,5)\n",
    "        p2 = Point(2,3)\n",
    "        p3 = Point(4,1)\n",
    "        p4 = Point(7,6)\n",
    "        l1 = Line(p1, p2)\n",
    "        l2 = Line(p3, p4)\n",
    "        fi = FindIntersection()\n",
    "        result = fi.find_intesection(l1, l2)\n",
    "        self.assertFalse(result)\n",
    "    \n",
    "    def test_vertical_line_exception(self):\n",
    "        self.assertRaises(Exception, Line, (Point(1,5),Point(1,3)))\n",
    "        \n",
    "    def test_horizontal_lines_exception(self):\n",
    "        p1 = Point(1,5)\n",
    "        p2 = Point(2,5)\n",
    "        p3 = Point(4,7)\n",
    "        p4 = Point(7,6)\n",
    "        l1 = Line(p1, p2)\n",
    "        l2 = Line(p3, p4)\n",
    "        fi = FindIntersection()\n",
    "        self.assertRaises(Exception, fi.find_intesection, (l1, l2))\n",
    "        \n",
    "if __name__ == '__main__':\n",
    "    unittest.main()"
   ]
  },
  {
   "cell_type": "code",
   "execution_count": 172,
   "metadata": {},
   "outputs": [
    {
     "name": "stderr",
     "output_type": "stream",
     "text": [
      "....\n",
      "----------------------------------------------------------------------\n",
      "Ran 4 tests in 0.003s\n",
      "\n",
      "OK\n"
     ]
    }
   ],
   "source": [
    "%run -i test_find_intersection.py"
   ]
  },
  {
   "cell_type": "code",
   "execution_count": null,
   "metadata": {},
   "outputs": [],
   "source": []
  }
 ],
 "metadata": {
  "kernelspec": {
   "display_name": "Python 3",
   "language": "python",
   "name": "python3"
  },
  "language_info": {
   "codemirror_mode": {
    "name": "ipython",
    "version": 3
   },
   "file_extension": ".py",
   "mimetype": "text/x-python",
   "name": "python",
   "nbconvert_exporter": "python",
   "pygments_lexer": "ipython3",
   "version": "3.6.4"
  }
 },
 "nbformat": 4,
 "nbformat_minor": 2
}
