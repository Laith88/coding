{
 "cells": [
  {
   "cell_type": "markdown",
   "metadata": {},
   "source": [
    "### Problem: \n",
    "* Write a function to swap a number in place- without temp variables.\n",
    "\n",
    "### Assumptions & constraints:\n",
    "* Can we assume the input is int? \n",
    "* Can we assume that the input is valid?\n",
    "\n",
    "### Test cases:\n",
    "* Any None input -> Exception\n",
    "* Two equal inputs: (5, 5) -> (5, 5)\n",
    "* Two different equals: (6, 4) -> (4, 6)\n",
    "\n",
    "### Algorithm:\n",
    "* Approach 1:\n",
    "    * Given two numbers, a and b\n",
    "    * use diff to calculate diff_a_b = a - b\n",
    "    * b_ = diff_a_b + b\n",
    "    * a_ =  b_ - diff_a_b\n",
    "* Approach 2:\n",
    "    * Given two numbers do bit manupiulation\n",
    "    * a = a ^ b # XOR\n",
    "    * b = a ^ b # XOR\n",
    "    * a = a ^ b # XOR"
   ]
  },
  {
   "cell_type": "code",
   "execution_count": 120,
   "metadata": {},
   "outputs": [
    {
     "name": "stdout",
     "output_type": "stream",
     "text": [
      "Overwriting swap_numbers.py\n"
     ]
    }
   ],
   "source": [
    "%%writefile swap_numbers.py\n",
    "class SwapNumbers(object):\n",
    "    \"\"\" swaps two numbers in place \"\"\"\n",
    "    def swap_numbers_1(self, a, b):\n",
    "        if a is None or b is None:\n",
    "            raise Exception('inputs a or b can not be none')\n",
    "        if a == b:\n",
    "            return (a, b)\n",
    "        a = a - b\n",
    "        b = a + b\n",
    "        a = b - a\n",
    "        return (a, b)\n",
    "    \n",
    "    def swap_numbers_2(self, a, b):\n",
    "        if a is None or b is None:\n",
    "            raise Exception('inputs a or b can not be none')\n",
    "        if a == b:\n",
    "            return (a, b)\n",
    "        a = a ^ b\n",
    "        b = a ^ b\n",
    "        a = a ^ b\n",
    "        return (a, b)"
   ]
  },
  {
   "cell_type": "code",
   "execution_count": 151,
   "metadata": {},
   "outputs": [
    {
     "name": "stdout",
     "output_type": "stream",
     "text": [
      "Overwriting test_swap_numbers.py\n"
     ]
    }
   ],
   "source": [
    "%%writefile test_swap_numbers.py\n",
    "import unittest\n",
    "import swap_numbers\n",
    "\n",
    "class TestSwapNumbers(unittest.TestCase):\n",
    "    \"\"\" Test the implementation of swap numbers solution \"\"\"\n",
    "    def setUp(self):\n",
    "        self.sn = swap_numbers.SwapNumbers()\n",
    "        \n",
    "    def test_swap_numbers_1_2_3(self):\n",
    "        self.assertEqual((3,2), self.sn.swap_numbers_2(2, 3))\n",
    "        \n",
    "    def test_none_input(self):\n",
    "        self.assertRaises(Exception, self.sn.swap_numbers_2, (None, 3))\n",
    "    \n",
    "    def test_none_input_1(self):\n",
    "        self.assertRaises(Exception, self.sn.swap_numbers_2, (None, None))\n",
    "        \n",
    "        \n",
    "        \n",
    "if __name__ == '__main__':\n",
    "    unittest.main()"
   ]
  },
  {
   "cell_type": "code",
   "execution_count": 150,
   "metadata": {},
   "outputs": [
    {
     "name": "stderr",
     "output_type": "stream",
     "text": [
      "...\n",
      "----------------------------------------------------------------------\n",
      "Ran 3 tests in 0.003s\n",
      "\n",
      "OK\n"
     ]
    }
   ],
   "source": [
    "%run -i test_swap_numbers.py"
   ]
  },
  {
   "cell_type": "code",
   "execution_count": null,
   "metadata": {},
   "outputs": [],
   "source": []
  }
 ],
 "metadata": {
  "kernelspec": {
   "display_name": "Python 3",
   "language": "python",
   "name": "python3"
  },
  "language_info": {
   "codemirror_mode": {
    "name": "ipython",
    "version": 3
   },
   "file_extension": ".py",
   "mimetype": "text/x-python",
   "name": "python",
   "nbconvert_exporter": "python",
   "pygments_lexer": "ipython3",
   "version": "3.6.4"
  }
 },
 "nbformat": 4,
 "nbformat_minor": 2
}
