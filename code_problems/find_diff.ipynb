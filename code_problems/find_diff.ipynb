{
 "cells": [
  {
   "cell_type": "code",
   "execution_count": 73,
   "metadata": {},
   "outputs": [
    {
     "name": "stdout",
     "output_type": "stream",
     "text": [
      "Writing find_differenc.py\n"
     ]
    }
   ],
   "source": [
    "%%writefile find_differenc.py\n",
    "class FindDifference(object):\n",
    "    \"\"\" find the difference between two strings \"\"\"\n",
    "    def find_diff_1(self, s1:str, s2:str) -> str:\n",
    "        \"\"\"\n",
    "        Find the difference between s1 and s2 where s2 has one different string string.\n",
    "\n",
    "        Args:\n",
    "            s1: string to be compressed\n",
    "            s2: string to be compressed\n",
    "\n",
    "\n",
    "\n",
    "        Returns:\n",
    "            str: single character string\n",
    "\n",
    "        Examples:\n",
    "\n",
    "        >>> fd = FindDifference()\n",
    "        >>> fd.find_diff_1('test', 'tegt')\n",
    "        'g'\n",
    "\n",
    "        \"\"\"\n",
    "        if s1 is None and s2 is None:\n",
    "            raise TypeError('Sting inputs can not be None')\n",
    "        for char in s2:\n",
    "            count_char_s1 = s1.count(char)\n",
    "            count_char_s2 = s2.count(char)\n",
    "            if count_char_s2 != count_char_s1:\n",
    "                return char\n",
    "        return ''\n",
    "    \n",
    "    def find_diff_2(self, s1, s2):\n",
    "        \"\"\"\n",
    "        Find the difference between s1 and s2 where s2 has one different string string.\n",
    "\n",
    "        Args:\n",
    "            s1: string to be compressed\n",
    "            s2: string to be compressed\n",
    "\n",
    "\n",
    "\n",
    "        Returns:\n",
    "            str: single character string\n",
    "\n",
    "        Examples:\n",
    "\n",
    "        >>> fd = FindDifference()\n",
    "        >>> fd.find_diff_2('test', 'tegt')\n",
    "        'g'\n",
    "\n",
    "        \"\"\"\n",
    "        dict_s1 = {}\n",
    "        dict_s2 = {}\n",
    "        for char in s1:\n",
    "            if char in dict_s1:\n",
    "                dict_s1[char] += 1\n",
    "            else:\n",
    "                dict_s1[char] = 1     \n",
    "        for char in s2:\n",
    "            if char in dict_s2:\n",
    "                dict_s2[char] += 1\n",
    "            else:\n",
    "                dict_s2[char] = 1\n",
    "        for char in dict_s2:\n",
    "            try:\n",
    "                if char not in dict_s1 or dict_s2[char]>dict_s1[char]:\n",
    "                    return str(char)\n",
    "            except KeyError:\n",
    "                continue\n",
    "        return ''"
   ]
  }
 ],
 "metadata": {
  "kernelspec": {
   "display_name": "Python 3",
   "language": "python",
   "name": "python3"
  },
  "language_info": {
   "codemirror_mode": {
    "name": "ipython",
    "version": 3
   },
   "file_extension": ".py",
   "mimetype": "text/x-python",
   "name": "python",
   "nbconvert_exporter": "python",
   "pygments_lexer": "ipython3",
   "version": "3.6.4"
  }
 },
 "nbformat": 4,
 "nbformat_minor": 2
}
